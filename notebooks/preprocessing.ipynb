{
 "cells": [
  {
   "cell_type": "markdown",
   "id": "afe5a914",
   "metadata": {},
   "source": [
    "# Cell 1: Import and Setup"
   ]
  },
  {
   "cell_type": "code",
   "execution_count": null,
   "id": "0d44ceca",
   "metadata": {},
   "outputs": [],
   "source": [
    "import pandas as pd\n",
    "import os # For file path operations\n",
    "import matplotlib.pyplot as plt\n",
    "import seaborn as sns\n",
    "\n",
    "pd.set_option('display.max_columns', None)  # Display all columns in DataFrame\n",
    "\n",
    "#Paths\n",
    "RAW_PATH = \"../data/raw/\"\n",
    "PROCESSED_PATH = \"../data/processed/\"\n",
    "\n",
    "os.makedirs(PROCESSED_PATH, exist_ok=True)  # Create processed directory if it doesn't exist\n"
   ]
  },
  {
   "cell_type": "markdown",
   "id": "34bf2cb5",
   "metadata": {},
   "source": [
    "# Cell 2: Loading and Merging all CSVs"
   ]
  },
  {
   "cell_type": "code",
   "execution_count": null,
   "id": "fb1e74a8",
   "metadata": {},
   "outputs": [],
   "source": [
    "# List all CSV files in raw folder\n",
    "files = [f for f in os.listdir(RAW_PATH) if f.endswith(\".csv\")]\n",
    "\n",
    "dfs = []\n",
    "for file in files:\n",
    "    df = pd.read_csv(os.path.join(RAW_PATH, file)) # Read each CSV file\n",
    "    df[\"company\"] = file.replace(\".csv\", \"\")  # Add a column for company name\n",
    "    dfs.append(df)\n",
    "\n",
    "# Merger all DataFrames\n",
    "data = pd.concat(dfs, ignore_index=True)\n",
    "\n",
    "print(\"Merged Dataset Shape:\", data.shape)\n",
    "data.head()"
   ]
  },
  {
   "cell_type": "markdown",
   "id": "94eddc38",
   "metadata": {},
   "source": [
    "# Cell 3: Post 2016 data (date choice is optional)"
   ]
  },
  {
   "cell_type": "code",
   "execution_count": null,
   "id": "84b31770",
   "metadata": {},
   "outputs": [],
   "source": [
    "data[\"Date\"] = pd.to_datetime(data[\"Date\"])  # Convert date column to datetime\n",
    "\n",
    "data = data[data[\"Date\"] >= \"2016-01-01\"].reset_index(drop=True)  # Filter data from 2016 onwards\n",
    "\n",
    "print(\"Post-2016 Dataset Shape:\", data.shape)\n",
    "data.head()"
   ]
  },
  {
   "cell_type": "markdown",
   "id": "2dfe19af",
   "metadata": {},
   "source": [
    "# Cell 4: Pre-processing and EDA"
   ]
  },
  {
   "cell_type": "code",
   "execution_count": null,
   "id": "9910945b",
   "metadata": {},
   "outputs": [],
   "source": []
  }
 ],
 "metadata": {
  "kernelspec": {
   "display_name": "Python 3",
   "language": "python",
   "name": "python3"
  },
  "language_info": {
   "name": "python",
   "version": "3.11.11"
  }
 },
 "nbformat": 4,
 "nbformat_minor": 5
}
