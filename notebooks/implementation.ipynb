{
 "cells": [
  {
   "cell_type": "markdown",
   "id": "7313d767",
   "metadata": {},
   "source": [
    "# Cell 1: Calculating Technical Indicators"
   ]
  },
  {
   "cell_type": "code",
   "execution_count": 4,
   "id": "9efbc721",
   "metadata": {},
   "outputs": [
    {
     "name": "stdout",
     "output_type": "stream",
     "text": [
      "Indicators calculated for 49 companies.\n",
      "Sample (first 5 rows with indicators):\n",
      "        Date     Company    Open   High     Low   Close   Volume  SMA_20  \\\n",
      "0 2016-01-01  ADANIPORTS  261.00  268.3  260.10  267.55  1347893     NaN   \n",
      "1 2016-01-04  ADANIPORTS  264.45  266.5  257.00  257.95  2536252     NaN   \n",
      "2 2016-01-05  ADANIPORTS  259.20  260.3  254.25  255.70  2815055     NaN   \n",
      "3 2016-01-06  ADANIPORTS  253.00  257.3  250.55  251.80  2029467     NaN   \n",
      "4 2016-01-07  ADANIPORTS  245.65  247.5  241.50  245.00  4244402     NaN   \n",
      "\n",
      "       EMA_20  RSI_14  BB_upper  BB_lower         OBV  VMA_20  \n",
      "0  267.550000     NaN       NaN       NaN         0.0     NaN  \n",
      "1  266.635714     NaN       NaN       NaN  -2536252.0     NaN  \n",
      "2  265.594218     NaN       NaN       NaN  -5351307.0     NaN  \n",
      "3  264.280483     NaN       NaN       NaN  -7380774.0     NaN  \n",
      "4  262.444246     NaN       NaN       NaN -11625176.0     NaN  \n"
     ]
    }
   ],
   "source": [
    "import pandas as pd\n",
    "import numpy as np\n",
    "import warnings\n",
    "\n",
    "# Suppress RuntimeWarnings for cleaner output\n",
    "warnings.filterwarnings(\"ignore\", category=RuntimeWarning)\n",
    "\n",
    "# --- Load preprocessed dataset ---\n",
    "data_path = \"../data/processed/nifty50_cleaned.csv\"  # adjust if different\n",
    "df = pd.read_csv(data_path, parse_dates=[\"Date\"])\n",
    "\n",
    "# Ensure sorting (important for rolling calculations)\n",
    "df = df.sort_values(by=[\"Company\", \"Date\"]).reset_index(drop=True)\n",
    "\n",
    "# --- Function to calculate indicators for a company ---\n",
    "def calculate_indicators(df, company):\n",
    "    company_df = df[df['Company'] == company].copy()\n",
    "    company_df['Close'] = pd.to_numeric(company_df['Close'], errors='coerce')\n",
    "    company_df['Volume'] = pd.to_numeric(company_df['Volume'], errors='coerce')\n",
    "    company_df = company_df.dropna(subset=['Close', 'Volume'])\n",
    "    \n",
    "    # --- SMA (Simple Moving Average) ---\n",
    "    company_df['SMA_20'] = company_df['Close'].rolling(window=20).mean()\n",
    "    \n",
    "    # --- EMA (Exponential Moving Average) ---\n",
    "    company_df['EMA_20'] = company_df['Close'].ewm(span=20, adjust=False).mean()\n",
    "    \n",
    "    # --- RSI (Relative Strength Index, 14 days) ---\n",
    "    delta = company_df['Close'].diff()\n",
    "    gain = delta.where(delta > 0, 0).rolling(window=14).mean()\n",
    "    loss = (-delta.where(delta < 0, 0)).rolling(window=14).mean()\n",
    "    rs = gain / loss\n",
    "    company_df['RSI_14'] = 100 - (100 / (1 + rs))\n",
    "    \n",
    "    # --- Bollinger Bands (20-day) ---\n",
    "    rolling_mean = company_df['Close'].rolling(window=20).mean()\n",
    "    rolling_std = company_df['Close'].rolling(window=20).std()\n",
    "    company_df['BB_upper'] = rolling_mean + 2 * rolling_std\n",
    "    company_df['BB_lower'] = rolling_mean - 2 * rolling_std\n",
    "    \n",
    "    # --- Volume Indicators ---\n",
    "    # On-Balance Volume (OBV)\n",
    "    company_df['OBV'] = (np.sign(company_df['Close'].diff()) * company_df['Volume']).fillna(0).cumsum()\n",
    "    \n",
    "    # Volume Moving Average (20-day)\n",
    "    company_df['VMA_20'] = company_df['Volume'].rolling(window=20).mean()\n",
    "    \n",
    "    return company_df\n",
    "\n",
    "# --- Apply to all companies ---\n",
    "companies = df['Company'].unique()\n",
    "df_with_indicators = pd.concat([calculate_indicators(df, company) for company in companies])\n",
    "\n",
    "# --- Save with indicators ---\n",
    "output_path = \"../data/processed/preprocessed_with_indicators.csv\"\n",
    "df_with_indicators.to_csv(output_path, index=False)\n",
    "\n",
    "# --- Verify ---\n",
    "print(f\"Indicators calculated for {len(companies)} companies.\")\n",
    "print(\"Sample (first 5 rows with indicators):\")\n",
    "print(df_with_indicators.head())\n"
   ]
  },
  {
   "cell_type": "markdown",
   "id": "ada6c3ab",
   "metadata": {},
   "source": [
    "# Cell 2: Injection of Anomalies"
   ]
  },
  {
   "cell_type": "code",
   "execution_count": 30,
   "id": "1583a521",
   "metadata": {},
   "outputs": [
    {
     "name": "stderr",
     "output_type": "stream",
     "text": [
      "/var/folders/0j/5jfmjxkn0mb132z0x6jk13xm0000gn/T/ipykernel_37523/1439151164.py:36: DeprecationWarning: DataFrameGroupBy.apply operated on the grouping columns. This behavior is deprecated, and in a future version of pandas the grouping columns will be excluded from the operation. Either pass `include_groups=False` to exclude the groupings or explicitly select the grouping columns after groupby to silence this warning.\n",
      "  df_with_anomalies = df.groupby(\"Company\", group_keys=False).apply(lambda x: inject_anomalies(x, n=10))\n"
     ]
    },
    {
     "name": "stdout",
     "output_type": "stream",
     "text": [
      "Anomaly injection complete! Saved to ../data/processed/nifty50_with_anomalies.csv\n",
      "Total anomalies injected: 490\n"
     ]
    }
   ],
   "source": [
    "# --- Anomaly Injection (3 per company) ---\n",
    "\n",
    "import pandas as pd\n",
    "import numpy as np\n",
    "import random\n",
    "import os\n",
    "\n",
    "# Load preprocessed dataset with indicators\n",
    "data_path = \"../data/processed/preprocessed_with_indicators.csv\"\n",
    "df = pd.read_csv(data_path, parse_dates=[\"Date\"])\n",
    "\n",
    "# Add anomaly label column\n",
    "df[\"Anomaly\"] = 0  \n",
    "\n",
    "# Set random seed for reproducibility\n",
    "random.seed(42)\n",
    "\n",
    "# Function to inject anomalies into one company's data\n",
    "def inject_anomalies(company_df, n=10):\n",
    "    n = min(n, len(company_df))\n",
    "    idx_choices = random.sample(range(len(company_df)), n)\n",
    "    for idx in idx_choices:\n",
    "        # Randomly choose anomaly type\n",
    "        anomaly_type = random.choice([\"spike\", \"drop\"])\n",
    "        #anomaly_type = random.choice([\"spike\", \"drop\", \"volume_spike\"])\n",
    "        if anomaly_type == \"spike\":\n",
    "            company_df.iloc[idx, company_df.columns.get_loc(\"Close\")] *= 1.5 # +50% spike\n",
    "        elif anomaly_type == \"drop\":\n",
    "            company_df.iloc[idx, company_df.columns.get_loc(\"Close\")] *= 0.5  # -50% drop\n",
    "        #elif anomaly_type == \"volume_spike\":\n",
    "            #company_df.iloc[idx, company_df.columns.get_loc(\"Volume\")] *= 8  # 8x volume\n",
    "        company_df.iloc[idx, company_df.columns.get_loc(\"Anomaly\")] = 1\n",
    "    return company_df\n",
    "\n",
    "# Apply anomaly injection per company\n",
    "df_with_anomalies = df.groupby(\"Company\", group_keys=False).apply(lambda x: inject_anomalies(x, n=10))\n",
    "\n",
    "# Save the dataset\n",
    "output_path = \"../data/processed/nifty50_with_anomalies.csv\"\n",
    "os.makedirs(os.path.dirname(output_path), exist_ok=True)\n",
    "df_with_anomalies.to_csv(output_path, index=False)\n",
    "\n",
    "print(f\"Anomaly injection complete! Saved to {output_path}\")\n",
    "print(\"Total anomalies injected:\", df_with_anomalies['Anomaly'].sum())\n"
   ]
  },
  {
   "cell_type": "markdown",
   "id": "418402fd",
   "metadata": {},
   "source": [
    "# Cell 3: XGBoost Anomaly Detection"
   ]
  },
  {
   "cell_type": "code",
   "execution_count": 20,
   "id": "0ce3ce1b",
   "metadata": {},
   "outputs": [
    {
     "name": "stderr",
     "output_type": "stream",
     "text": [
      "/opt/homebrew/lib/python3.11/site-packages/xgboost/training.py:183: UserWarning: [01:02:10] WARNING: /Users/runner/work/xgboost/xgboost/src/learner.cc:738: \n",
      "Parameters: { \"use_label_encoder\" } are not used.\n",
      "\n",
      "  bst.update(dtrain, iteration=i, fobj=obj)\n"
     ]
    },
    {
     "name": "stdout",
     "output_type": "stream",
     "text": [
      "Total anomalies in train set: 338\n",
      "Total anomalies in test set: 152\n",
      "Evaluation - XGBoost (Threshold = 0.4)\n",
      "Precision: 0.5570776255707762\n",
      "Recall   : 0.8026315789473685\n",
      "F1 Score : 0.6576819407008087\n",
      "\n",
      "Classification Report:\n",
      "              precision    recall  f1-score   support\n",
      "\n",
      "           0       1.00      0.99      1.00     19223\n",
      "           1       0.56      0.80      0.66       152\n",
      "\n",
      "    accuracy                           0.99     19375\n",
      "   macro avg       0.78      0.90      0.83     19375\n",
      "weighted avg       0.99      0.99      0.99     19375\n",
      "\n"
     ]
    },
    {
     "data": {
      "image/png": "[encoded data removed]",
      "text/plain": [
       "<Figure size 640x480 with 2 Axes>"
      ]
     },
     "metadata": {},
     "output_type": "display_data"
    }
   ],
   "source": [
    "# --- XGBoost Anomaly Detection with Lowered Threshold ---\n",
    "import pandas as pd\n",
    "import numpy as np\n",
    "import xgboost as xgb\n",
    "from sklearn.metrics import accuracy_score, precision_score, recall_score, f1_score, confusion_matrix, classification_report\n",
    "import matplotlib.pyplot as plt\n",
    "import seaborn as sns\n",
    "\n",
    "# --- Load anomaly-injected dataset ---\n",
    "df = pd.read_csv(\"../data/processed/nifty50_with_anomalies.csv\", parse_dates=[\"Date\"])\n",
    "df = df.sort_values(by=[\"Date\"]).reset_index(drop=True)\n",
    "\n",
    "# --- Features and Target ---\n",
    "features = [\"Close\", \"SMA_20\", \"EMA_20\", \"RSI_14\", \"BB_upper\", \"BB_lower\"]\n",
    "X = df[features]\n",
    "y = df[\"Anomaly\"]\n",
    "\n",
    "# --- Time-based Split (70/30) ---\n",
    "split_idx = int(len(X) * 0.7)\n",
    "X_train, X_test = X.iloc[:split_idx], X.iloc[split_idx:]\n",
    "y_train, y_test = y.iloc[:split_idx], y.iloc[split_idx:]\n",
    "\n",
    "# --- Handle class imbalance ---\n",
    "scale_pos_weight = (y_train == 0).sum() / (y_train == 1).sum()\n",
    "\n",
    "# --- XGBoost Classifier ---\n",
    "xgb_clf = xgb.XGBClassifier(\n",
    "    objective=\"binary:logistic\",\n",
    "    eval_metric=\"logloss\",\n",
    "    use_label_encoder=False,\n",
    "    learning_rate=0.05,\n",
    "    max_depth=6,\n",
    "    n_estimators=500,\n",
    "    scale_pos_weight=scale_pos_weight,\n",
    "    random_state=42\n",
    ")\n",
    "\n",
    "\n",
    "xgb_clf.fit(X_train, y_train)\n",
    "\n",
    "# --- Predictions with lowered threshold ---\n",
    "y_pred_proba = xgb_clf.predict_proba(X_test)[:, 1]\n",
    "threshold = 0.5  # Lower threshold to improve recall\n",
    "y_pred = (y_pred_proba > threshold).astype(int)\n",
    "\n",
    "print(\"Total anomalies in train set:\", y_train.sum())\n",
    "print(\"Total anomalies in test set:\", y_test.sum())\n",
    "\n",
    "# --- Evaluation ---\n",
    "print(\"Evaluation - XGBoost (Threshold = 0.4)\")\n",
    "print(\"Precision:\", precision_score(y_test, y_pred))\n",
    "print(\"Recall   :\", recall_score(y_test, y_pred))\n",
    "print(\"F1 Score :\", f1_score(y_test, y_pred))\n",
    "print(\"\\nClassification Report:\")\n",
    "print(classification_report(y_test, y_pred))\n",
    "\n",
    "# --- Confusion Matrix ---\n",
    "cm = confusion_matrix(y_test, y_pred)\n",
    "sns.heatmap(cm, annot=True, fmt=\"d\", cmap=\"Blues\",\n",
    "            xticklabels=[\"Normal\", \"Anomaly\"],\n",
    "            yticklabels=[\"Normal\", \"Anomaly\"])\n",
    "plt.xlabel(\"Predicted\")\n",
    "plt.ylabel(\"True\")\n",
    "plt.title(\"Confusion Matrix - XGBoost (Threshold = 0.4)\")\n",
    "plt.show()"
   ]
  },
  {
   "cell_type": "markdown",
   "id": "e9303f62",
   "metadata": {},
   "source": [
    "# Cell 5: Random Forest"
   ]
  },
  {
   "cell_type": "code",
   "execution_count": 25,
   "id": "651c06b1",
   "metadata": {},
   "outputs": [
    {
     "name": "stdout",
     "output_type": "stream",
     "text": [
      "Total anomalies in train set: 338\n",
      "Total anomalies in test set: 152\n",
      "Evaluation - RandomForest\n",
      "Precision: 1.0\n",
      "Recall   : 0.5131578947368421\n",
      "F1 Score : 0.6782608695652174\n",
      "\n",
      "Classification Report:\n",
      "              precision    recall  f1-score   support\n",
      "\n",
      "           0       1.00      1.00      1.00     19223\n",
      "           1       1.00      0.51      0.68       152\n",
      "\n",
      "    accuracy                           1.00     19375\n",
      "   macro avg       1.00      0.76      0.84     19375\n",
      "weighted avg       1.00      1.00      1.00     19375\n",
      "\n"
     ]
    },
    {
     "data": {
      "image/png": "[encoded data removed]",
      "text/plain": [
       "<Figure size 640x480 with 2 Axes>"
      ]
     },
     "metadata": {},
     "output_type": "display_data"
    }
   ],
   "source": [
    "from sklearn.ensemble import RandomForestClassifier\n",
    "\n",
    "# --- RandomForest Classifier ---\n",
    "rf_clf = RandomForestClassifier(\n",
    "    n_estimators=300,\n",
    "    max_depth=10,\n",
    "    class_weight=\"balanced\",  # handles imbalance automatically\n",
    "    random_state=42,\n",
    "    n_jobs=-1\n",
    ")\n",
    "\n",
    "rf_clf.fit(X_train, y_train)\n",
    "\n",
    "# --- Predictions ---\n",
    "y_pred_rf = rf_clf.predict(X_test)\n",
    "\n",
    "print(\"Total anomalies in train set:\", y_train.sum())\n",
    "print(\"Total anomalies in test set:\", y_test.sum())\n",
    "\n",
    "# --- Evaluation ---\n",
    "print(\"Evaluation - RandomForest\")\n",
    "print(\"Precision:\", precision_score(y_test, y_pred_rf))\n",
    "print(\"Recall   :\", recall_score(y_test, y_pred_rf))\n",
    "print(\"F1 Score :\", f1_score(y_test, y_pred_rf))\n",
    "print(\"\\nClassification Report:\")\n",
    "print(classification_report(y_test, y_pred_rf))\n",
    "\n",
    "# --- Confusion Matrix ---\n",
    "cm_rf = confusion_matrix(y_test, y_pred_rf)\n",
    "sns.heatmap(cm_rf, annot=True, fmt=\"d\", cmap=\"Greens\",\n",
    "            xticklabels=[\"Normal\", \"Anomaly\"],\n",
    "            yticklabels=[\"Normal\", \"Anomaly\"])\n",
    "plt.xlabel(\"Predicted\")\n",
    "plt.ylabel(\"True\")\n",
    "plt.title(\"Confusion Matrix - RandomForest\")\n",
    "plt.show()\n"
   ]
  }
 ],
 "metadata": {
  "kernelspec": {
   "display_name": "Python 3",
   "language": "python",
   "name": "python3"
  },
  "language_info": {
   "codemirror_mode": {
    "name": "ipython",
    "version": 3
   },
   "file_extension": ".py",
   "mimetype": "text/x-python",
   "name": "python",
   "nbconvert_exporter": "python",
   "pygments_lexer": "ipython3",
   "version": "3.11.11"
  }
 },
 "nbformat": 4,
 "nbformat_minor": 5
}
